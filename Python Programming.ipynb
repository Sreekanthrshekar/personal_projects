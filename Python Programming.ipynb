{
 "cells": [
  {
   "cell_type": "markdown",
   "metadata": {},
   "source": [
    "## <font color=red> QUESTION.</font>\n",
    "> #### <font color=red> I wish to find and replace words using python. How can I do that ? </font>"
   ]
  },
  {
   "cell_type": "markdown",
   "metadata": {},
   "source": [
    " ### Example 1\n",
    " \n",
    " Input = \"Respected Sir,I wish to inform you that your subsciption has expired. Please recharge to continue uninterrupted service.\"\n",
    " \n",
    " Output = 'Respected Madam,I wish to inform you that your subsciption has expired. Please recharge to continue uninterrupted service.'"
   ]
  },
  {
   "cell_type": "code",
   "execution_count": 26,
   "metadata": {},
   "outputs": [
    {
     "data": {
      "text/plain": [
       "'Respected Sir, I wish to inform you that your subsciption has expired. Please recharge to continue uninterrupted service.'"
      ]
     },
     "execution_count": 26,
     "metadata": {},
     "output_type": "execute_result"
    }
   ],
   "source": [
    "string1= 'Respected Sir, I wish to inform you that your subsciption has expired. Please recharge to continue uninterrupted service.'\n",
    "string1"
   ]
  },
  {
   "cell_type": "code",
   "execution_count": 27,
   "metadata": {},
   "outputs": [
    {
     "data": {
      "text/plain": [
       "'Respected Madam, I wish to inform you that your subsciption has expired. Please recharge to continue uninterrupted service.'"
      ]
     },
     "execution_count": 27,
     "metadata": {},
     "output_type": "execute_result"
    }
   ],
   "source": [
    "string2 = string1.replace(\"Sir\",\"Madam\")\n",
    "string2"
   ]
  },
  {
   "cell_type": "markdown",
   "metadata": {},
   "source": [
    " ### Example 2\n",
    "\n",
    "Input = \"Mary is working in marketing section. She has to work from 9 am to 9 pm everyday. She reaches home only by 11 at night\"\n",
    " \n",
    " Output = 'John is working in marketing section. He has to work from 9 am to 9 pm everyday. He reaches home only by 11 at night'"
   ]
  },
  {
   "cell_type": "code",
   "execution_count": 28,
   "metadata": {},
   "outputs": [
    {
     "data": {
      "text/plain": [
       "'Mary is working in marketing section. She has to work from 9 am to 9 pm everyday. She reaches home only by 11 at night'"
      ]
     },
     "execution_count": 28,
     "metadata": {},
     "output_type": "execute_result"
    }
   ],
   "source": [
    "string3 = 'Mary is working in marketing section. She has to work from 9 am to 9 pm everyday. She reaches home only by 11 at night'\n",
    "string3"
   ]
  },
  {
   "cell_type": "code",
   "execution_count": 29,
   "metadata": {},
   "outputs": [
    {
     "data": {
      "text/plain": [
       "'John is working in marketing section. He has to work from 9 am to 9 pm everyday. He reaches home only by 11 at night'"
      ]
     },
     "execution_count": 29,
     "metadata": {},
     "output_type": "execute_result"
    }
   ],
   "source": [
    "string4 =string3.replace(\"Mary\",\"John\")\n",
    "string5 =string4.replace(\"She\",\"He\")\n",
    "string5"
   ]
  },
  {
   "cell_type": "code",
   "execution_count": 30,
   "metadata": {},
   "outputs": [
    {
     "data": {
      "text/plain": [
       "'John is working in marketing section. He has to work from 9 am to 9 pm everyday. He reaches home only by 11 at night'"
      ]
     },
     "execution_count": 30,
     "metadata": {},
     "output_type": "execute_result"
    }
   ],
   "source": [
    "string6 =string3.replace(\"Mary\",\"John\").replace(\"She\",\"He\")\n",
    "string6"
   ]
  },
  {
   "cell_type": "markdown",
   "metadata": {},
   "source": [
    " ### Example 3\n",
    "\n",
    "Input = \"Mary is working in marketing section. Mary has to work from 9 am to 9 pm everyday. Mary reaches home only by 11 at night\"\n",
    " \n",
    " Output = 'John is working in marketing section. He has to work from 9 am to 9 pm everyday. He reaches home only by 11 at night'"
   ]
  },
  {
   "cell_type": "code",
   "execution_count": 31,
   "metadata": {},
   "outputs": [
    {
     "data": {
      "text/plain": [
       "'Mary is working in marketing section. Mary has to work from 9 am to 9 pm everyday. Mary reaches home only by 11 at night'"
      ]
     },
     "execution_count": 31,
     "metadata": {},
     "output_type": "execute_result"
    }
   ],
   "source": [
    "string5 = 'Mary is working in marketing section. Mary has to work from 9 am to 9 pm everyday. Mary reaches home only by 11 at night'\n",
    "string5"
   ]
  },
  {
   "cell_type": "code",
   "execution_count": 32,
   "metadata": {},
   "outputs": [
    {
     "data": {
      "text/plain": [
       "'Mary is working in marketing section. Mary has to work from 9 am to 9 pm everyday. Mary reaches home only by 11 at night'"
      ]
     },
     "execution_count": 32,
     "metadata": {},
     "output_type": "execute_result"
    }
   ],
   "source": [
    "string7 = string5.replace(\"mary\",\"John\",1).replace(\"mary\",\"He\")\n",
    "string7"
   ]
  },
  {
   "cell_type": "code",
   "execution_count": null,
   "metadata": {},
   "outputs": [],
   "source": []
  },
  {
   "cell_type": "code",
   "execution_count": null,
   "metadata": {},
   "outputs": [],
   "source": []
  },
  {
   "cell_type": "code",
   "execution_count": null,
   "metadata": {},
   "outputs": [],
   "source": []
  },
  {
   "cell_type": "code",
   "execution_count": null,
   "metadata": {},
   "outputs": [],
   "source": []
  },
  {
   "cell_type": "markdown",
   "metadata": {},
   "source": [
    "# <font color =red> PYTHON PROGRAM #1 <font/>\n",
    " > ### <font color =red> Swap two variable values without using a third variable<font/>"
   ]
  },
  {
   "cell_type": "code",
   "execution_count": 33,
   "metadata": {},
   "outputs": [
    {
     "name": "stdin",
     "output_type": "stream",
     "text": [
      " Please note that output will be in float\n",
      "Enter the value for variable a: 34.6\n",
      "Enter the value fo variable b: 90.86\n"
     ]
    }
   ],
   "source": [
    "a =float(input(''' Please note that output will be in float\n",
    "Enter the value for variable a:'''))\n",
    "b =float(input(\"Enter the value fo variable b:\"))"
   ]
  },
  {
   "cell_type": "code",
   "execution_count": 34,
   "metadata": {},
   "outputs": [
    {
     "data": {
      "text/plain": [
       "125.46000000000001"
      ]
     },
     "execution_count": 34,
     "metadata": {},
     "output_type": "execute_result"
    }
   ],
   "source": [
    "a=a+b\n",
    "a"
   ]
  },
  {
   "cell_type": "code",
   "execution_count": 35,
   "metadata": {},
   "outputs": [
    {
     "data": {
      "text/plain": [
       "34.60000000000001"
      ]
     },
     "execution_count": 35,
     "metadata": {},
     "output_type": "execute_result"
    }
   ],
   "source": [
    "b=a-b\n",
    "b"
   ]
  },
  {
   "cell_type": "code",
   "execution_count": 36,
   "metadata": {},
   "outputs": [
    {
     "data": {
      "text/plain": [
       "90.86"
      ]
     },
     "execution_count": 36,
     "metadata": {},
     "output_type": "execute_result"
    }
   ],
   "source": [
    "a=a-b\n",
    "a"
   ]
  },
  {
   "cell_type": "code",
   "execution_count": 37,
   "metadata": {},
   "outputs": [
    {
     "name": "stdout",
     "output_type": "stream",
     "text": [
      "value of a is:90.86 and value of b is:34.60000000000001\n"
     ]
    }
   ],
   "source": [
    "print(f\"value of a is:{a} and value of b is:{b}\")"
   ]
  },
  {
   "cell_type": "code",
   "execution_count": null,
   "metadata": {},
   "outputs": [],
   "source": []
  },
  {
   "cell_type": "code",
   "execution_count": null,
   "metadata": {},
   "outputs": [],
   "source": []
  }
 ],
 "metadata": {
  "kernelspec": {
   "display_name": "Python 3",
   "language": "python",
   "name": "python3"
  },
  "language_info": {
   "codemirror_mode": {
    "name": "ipython",
    "version": 3
   },
   "file_extension": ".py",
   "mimetype": "text/x-python",
   "name": "python",
   "nbconvert_exporter": "python",
   "pygments_lexer": "ipython3",
   "version": "3.7.7"
  }
 },
 "nbformat": 4,
 "nbformat_minor": 4
}
