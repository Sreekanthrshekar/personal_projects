{
 "cells": [
  {
   "cell_type": "markdown",
   "metadata": {},
   "source": [
    "## <font color=red> QUESTION.</font>\n",
    "> #### <font color=red> I wish to find and replace words using python. How can I do that ? </font>"
   ]
  },
  {
   "cell_type": "markdown",
   "metadata": {},
   "source": [
    " ### Example 1\n",
    " \n",
    " Input = \"Respected Sir,I wish to inform you that your subsciption has expired. Please recharge to continue uninterrupted service.\"\n",
    " \n",
    " Output = 'Respected Madam,I wish to inform you that your subsciption has expired. Please recharge to continue uninterrupted service.'"
   ]
  },
  {
   "cell_type": "code",
   "execution_count": null,
   "metadata": {},
   "outputs": [],
   "source": [
    "string1= 'Respected Sir, I wish to inform you that your subsciption has expired. Please recharge to continue uninterrupted service.'\n",
    "string1"
   ]
  },
  {
   "cell_type": "code",
   "execution_count": null,
   "metadata": {},
   "outputs": [],
   "source": []
  },
  {
   "cell_type": "code",
   "execution_count": null,
   "metadata": {},
   "outputs": [],
   "source": []
  },
  {
   "cell_type": "code",
   "execution_count": null,
   "metadata": {},
   "outputs": [],
   "source": []
  },
  {
   "cell_type": "markdown",
   "metadata": {},
   "source": [
    " ### Example 2\n",
    "\n",
    "Input = \"Mary is working in marketing section. She has to work from 9 am to 9 pm everyday. She reaches home only by 11 at night\"\n",
    " \n",
    " Output = 'John is working in marketing section. He has to work from 8 am to 8 pm everyday. He reaches home only by 11 at night'"
   ]
  },
  {
   "cell_type": "code",
   "execution_count": null,
   "metadata": {},
   "outputs": [],
   "source": [
    "string3 = 'Mary is working in marketing section. She has to work from 9 am to 9 pm everyday. She reaches home only by 11 at night'\n",
    "string3"
   ]
  },
  {
   "cell_type": "code",
   "execution_count": null,
   "metadata": {},
   "outputs": [],
   "source": []
  },
  {
   "cell_type": "code",
   "execution_count": null,
   "metadata": {},
   "outputs": [],
   "source": []
  },
  {
   "cell_type": "code",
   "execution_count": null,
   "metadata": {},
   "outputs": [],
   "source": []
  },
  {
   "cell_type": "code",
   "execution_count": null,
   "metadata": {},
   "outputs": [],
   "source": []
  }
 ],
 "metadata": {
  "kernelspec": {
   "display_name": "Python 3",
   "language": "python",
   "name": "python3"
  },
  "language_info": {
   "codemirror_mode": {
    "name": "ipython",
    "version": 3
   },
   "file_extension": ".py",
   "mimetype": "text/x-python",
   "name": "python",
   "nbconvert_exporter": "python",
   "pygments_lexer": "ipython3",
   "version": "3.7.7"
  }
 },
 "nbformat": 4,
 "nbformat_minor": 4
}
