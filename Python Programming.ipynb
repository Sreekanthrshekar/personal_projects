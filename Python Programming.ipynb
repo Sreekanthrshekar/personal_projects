{
 "cells": [
  {
   "cell_type": "markdown",
   "metadata": {},
   "source": [
    "## <font color=red> QUESTION.</font>\n",
    "> #### <font color=red> I wish to find and replace words using python. How can I do that ? </font>"
   ]
  },
  {
   "cell_type": "markdown",
   "metadata": {},
   "source": [
    " ### Example 1\n",
    " \n",
    " Input = \"Respected Sir,I wish to inform you that your subsciption has expired. Please recharge to continue uninterrupted service.\"\n",
    " \n",
    " Output = 'Respected Madam,I wish to inform you that your subsciption has expired. Please recharge to continue uninterrupted service.'"
   ]
  },
  {
   "cell_type": "code",
   "execution_count": 1,
   "metadata": {},
   "outputs": [
    {
     "data": {
      "text/plain": [
       "'Respected Sir, I wish to inform you that your subsciption has expired. Please recharge to continue uninterrupted service.'"
      ]
     },
     "execution_count": 1,
     "metadata": {},
     "output_type": "execute_result"
    }
   ],
   "source": [
    "string1= 'Respected Sir, I wish to inform you that your subsciption has expired. Please recharge to continue uninterrupted service.'\n",
    "string1"
   ]
  },
  {
   "cell_type": "code",
   "execution_count": 2,
   "metadata": {},
   "outputs": [
    {
     "data": {
      "text/plain": [
       "'Respected Madam, I wish to inform you that your subsciption has expired. Please recharge to continue uninterrupted service.'"
      ]
     },
     "execution_count": 2,
     "metadata": {},
     "output_type": "execute_result"
    }
   ],
   "source": [
    "string2 = string1.replace(\"Sir\",\"Madam\")\n",
    "string2"
   ]
  },
  {
   "cell_type": "markdown",
   "metadata": {},
   "source": [
    " ### Example 2\n",
    "\n",
    "Input = \"Mary is working in marketing section. She has to work from 9 am to 9 pm everyday. She reaches home only by 11 at night\"\n",
    " \n",
    " Output = 'John is working in marketing section. He has to work from 9 am to 9 pm everyday. He reaches home only by 11 at night'"
   ]
  },
  {
   "cell_type": "code",
   "execution_count": 3,
   "metadata": {},
   "outputs": [
    {
     "data": {
      "text/plain": [
       "'Mary is working in marketing section. She has to work from 9 am to 9 pm everyday. She reaches home only by 11 at night'"
      ]
     },
     "execution_count": 3,
     "metadata": {},
     "output_type": "execute_result"
    }
   ],
   "source": [
    "string3 = 'Mary is working in marketing section. She has to work from 9 am to 9 pm everyday. She reaches home only by 11 at night'\n",
    "string3"
   ]
  },
  {
   "cell_type": "code",
   "execution_count": 8,
   "metadata": {},
   "outputs": [
    {
     "data": {
      "text/plain": [
       "'John is working in marketing section. He has to work from 9 am to 9 pm everyday. He reaches home only by 11 at night'"
      ]
     },
     "execution_count": 8,
     "metadata": {},
     "output_type": "execute_result"
    }
   ],
   "source": [
    "string4 =string3.replace(\"Mary\",\"John\")\n",
    "string5 =string4.replace(\"She\",\"He\")\n",
    "string5"
   ]
  },
  {
   "cell_type": "code",
   "execution_count": 9,
   "metadata": {},
   "outputs": [
    {
     "data": {
      "text/plain": [
       "'John is working in marketing section. He has to work from 9 am to 9 pm everyday. He reaches home only by 11 at night'"
      ]
     },
     "execution_count": 9,
     "metadata": {},
     "output_type": "execute_result"
    }
   ],
   "source": [
    "string6 =string3.replace(\"Mary\",\"John\").replace(\"She\",\"He\")\n",
    "string6"
   ]
  },
  {
   "cell_type": "markdown",
   "metadata": {},
   "source": [
    " ### Example 3\n",
    "\n",
    "Input = \"Mary is working in marketing section. Mary has to work from 9 am to 9 pm everyday. Mary reaches home only by 11 at night\"\n",
    " \n",
    " Output = 'John is working in marketing section. He has to work from 9 am to 9 pm everyday. He reaches home only by 11 at night'"
   ]
  },
  {
   "cell_type": "code",
   "execution_count": 10,
   "metadata": {},
   "outputs": [
    {
     "data": {
      "text/plain": [
       "'Mary is working in marketing section. Mary has to work from 9 am to 9 pm everyday. Mary reaches home only by 11 at night'"
      ]
     },
     "execution_count": 10,
     "metadata": {},
     "output_type": "execute_result"
    }
   ],
   "source": [
    "string5 = 'Mary is working in marketing section. Mary has to work from 9 am to 9 pm everyday. Mary reaches home only by 11 at night'\n",
    "string5"
   ]
  },
  {
   "cell_type": "code",
   "execution_count": 13,
   "metadata": {},
   "outputs": [
    {
     "data": {
      "text/plain": [
       "'Mary is working in marketing section. Mary has to work from 9 am to 9 pm everyday. Mary reaches home only by 11 at night'"
      ]
     },
     "execution_count": 13,
     "metadata": {},
     "output_type": "execute_result"
    }
   ],
   "source": [
    "string7 = string5.replace(\"mary\",\"John\",1).replace(\"mary\",\"He\")\n",
    "string7"
   ]
  }
 ],
 "metadata": {
  "kernelspec": {
   "display_name": "Python 3",
   "language": "python",
   "name": "python3"
  },
  "language_info": {
   "codemirror_mode": {
    "name": "ipython",
    "version": 3
   },
   "file_extension": ".py",
   "mimetype": "text/x-python",
   "name": "python",
   "nbconvert_exporter": "python",
   "pygments_lexer": "ipython3",
   "version": "3.7.7"
  }
 },
 "nbformat": 4,
 "nbformat_minor": 4
}
