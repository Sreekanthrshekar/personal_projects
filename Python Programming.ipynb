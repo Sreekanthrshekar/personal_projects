{
 "cells": [
  {
   "cell_type": "markdown",
   "metadata": {},
   "source": [
    "## <font color=red> QUESTION.</font>\n",
    "> #### <font color=red> I wish to find and replace words using python. How can I do that ? </font>"
   ]
  },
  {
   "cell_type": "markdown",
   "metadata": {},
   "source": [
    " ### Example 1\n",
    " \n",
    " Input = \"Respected Sir,I wish to inform you that your subsciption has expired. Please recharge to continue uninterrupted service.\"\n",
    " \n",
    " Output = 'Respected Madam,I wish to inform you that your subsciption has expired. Please recharge to continue uninterrupted service.'"
   ]
  },
  {
   "cell_type": "code",
   "execution_count": 1,
   "metadata": {},
   "outputs": [
    {
     "data": {
      "text/plain": [
       "'Respected Sir, I wish to inform you that your subsciption has expired. Please recharge to continue uninterrupted service.'"
      ]
     },
     "execution_count": 1,
     "metadata": {},
     "output_type": "execute_result"
    }
   ],
   "source": [
    "string1= 'Respected Sir, I wish to inform you that your subsciption has expired. Please recharge to continue uninterrupted service.'\n",
    "string1"
   ]
  },
  {
   "cell_type": "code",
   "execution_count": 2,
   "metadata": {},
   "outputs": [
    {
     "data": {
      "text/plain": [
       "'Respected Madam, I wish to inform you that your subsciption has expired. Please recharge to continue uninterrupted service.'"
      ]
     },
     "execution_count": 2,
     "metadata": {},
     "output_type": "execute_result"
    }
   ],
   "source": [
    "string2 = string1.replace(\"Sir\",\"Madam\")\n",
    "string2"
   ]
  },
  {
   "cell_type": "markdown",
   "metadata": {},
   "source": [
    " ### Example 2\n",
    "\n",
    "Input = \"Mary is working in marketing section. She has to work from 9 am to 9 pm everyday. She reaches home only by 11 at night\"\n",
    " \n",
    " Output = 'John is working in marketing section. He has to work from 9 am to 9 pm everyday. He reaches home only by 11 at night'"
   ]
  },
  {
   "cell_type": "code",
   "execution_count": 3,
   "metadata": {},
   "outputs": [
    {
     "data": {
      "text/plain": [
       "'Mary is working in marketing section. She has to work from 9 am to 9 pm everyday. She reaches home only by 11 at night'"
      ]
     },
     "execution_count": 3,
     "metadata": {},
     "output_type": "execute_result"
    }
   ],
   "source": [
    "string3 = 'Mary is working in marketing section. She has to work from 9 am to 9 pm everyday. She reaches home only by 11 at night'\n",
    "string3"
   ]
  },
  {
   "cell_type": "code",
   "execution_count": 4,
   "metadata": {},
   "outputs": [
    {
     "data": {
      "text/plain": [
       "'John is working in marketing section. He has to work from 9 am to 9 pm everyday. He reaches home only by 11 at night'"
      ]
     },
     "execution_count": 4,
     "metadata": {},
     "output_type": "execute_result"
    }
   ],
   "source": [
    "string4 =string3.replace(\"Mary\",\"John\")\n",
    "string5 =string4.replace(\"She\",\"He\")\n",
    "string5"
   ]
  },
  {
   "cell_type": "code",
   "execution_count": 5,
   "metadata": {},
   "outputs": [
    {
     "data": {
      "text/plain": [
       "'John is working in marketing section. He has to work from 9 am to 9 pm everyday. He reaches home only by 11 at night'"
      ]
     },
     "execution_count": 5,
     "metadata": {},
     "output_type": "execute_result"
    }
   ],
   "source": [
    "string6 =string3.replace(\"Mary\",\"John\").replace(\"She\",\"He\")\n",
    "string6"
   ]
  },
  {
   "cell_type": "markdown",
   "metadata": {},
   "source": [
    " ### Example 3\n",
    "\n",
    "Input = \"Mary is working in marketing section. Mary has to work from 9 am to 9 pm everyday. Mary reaches home only by 11 at night\"\n",
    " \n",
    " Output = 'John is working in marketing section. He has to work from 9 am to 9 pm everyday. He reaches home only by 11 at night'"
   ]
  },
  {
   "cell_type": "code",
   "execution_count": 6,
   "metadata": {},
   "outputs": [
    {
     "data": {
      "text/plain": [
       "'Mary is working in marketing section. Mary has to work from 9 am to 9 pm everyday. Mary reaches home only by 11 at night'"
      ]
     },
     "execution_count": 6,
     "metadata": {},
     "output_type": "execute_result"
    }
   ],
   "source": [
    "string5 = 'Mary is working in marketing section. Mary has to work from 9 am to 9 pm everyday. Mary reaches home only by 11 at night'\n",
    "string5"
   ]
  },
  {
   "cell_type": "code",
   "execution_count": 7,
   "metadata": {},
   "outputs": [
    {
     "data": {
      "text/plain": [
       "'Mary is working in marketing section. Mary has to work from 9 am to 9 pm everyday. Mary reaches home only by 11 at night'"
      ]
     },
     "execution_count": 7,
     "metadata": {},
     "output_type": "execute_result"
    }
   ],
   "source": [
    "string7 = string5.replace(\"mary\",\"John\",1).replace(\"mary\",\"He\")\n",
    "string7"
   ]
  },
  {
   "cell_type": "code",
   "execution_count": null,
   "metadata": {},
   "outputs": [],
   "source": []
  },
  {
   "cell_type": "code",
   "execution_count": null,
   "metadata": {},
   "outputs": [],
   "source": []
  },
  {
   "cell_type": "code",
   "execution_count": null,
   "metadata": {},
   "outputs": [],
   "source": []
  },
  {
   "cell_type": "code",
   "execution_count": null,
   "metadata": {},
   "outputs": [],
   "source": []
  },
  {
   "cell_type": "markdown",
   "metadata": {},
   "source": [
    "# <font color =red> PYTHON PROGRAM #1 <font/>\n",
    " > ### <font color =red> Swap two variable values without using a third variable<font/>"
   ]
  },
  {
   "cell_type": "code",
   "execution_count": 8,
   "metadata": {},
   "outputs": [
    {
     "name": "stdin",
     "output_type": "stream",
     "text": [
      " Please note that output will be in float\n",
      "Enter the value for variable a: 4\n",
      "Enter the value fo variable b: 6\n"
     ]
    }
   ],
   "source": [
    "a =float(input(''' Please note that output will be in float\n",
    "Enter the value for variable a:'''))\n",
    "b =float(input(\"Enter the value fo variable b:\"))"
   ]
  },
  {
   "cell_type": "code",
   "execution_count": 9,
   "metadata": {},
   "outputs": [
    {
     "data": {
      "text/plain": [
       "10.0"
      ]
     },
     "execution_count": 9,
     "metadata": {},
     "output_type": "execute_result"
    }
   ],
   "source": [
    "a=a+b\n",
    "a"
   ]
  },
  {
   "cell_type": "code",
   "execution_count": 10,
   "metadata": {},
   "outputs": [
    {
     "data": {
      "text/plain": [
       "4.0"
      ]
     },
     "execution_count": 10,
     "metadata": {},
     "output_type": "execute_result"
    }
   ],
   "source": [
    "b=a-b\n",
    "b"
   ]
  },
  {
   "cell_type": "code",
   "execution_count": 11,
   "metadata": {},
   "outputs": [
    {
     "data": {
      "text/plain": [
       "6.0"
      ]
     },
     "execution_count": 11,
     "metadata": {},
     "output_type": "execute_result"
    }
   ],
   "source": [
    "a=a-b\n",
    "a"
   ]
  },
  {
   "cell_type": "code",
   "execution_count": 12,
   "metadata": {},
   "outputs": [
    {
     "name": "stdout",
     "output_type": "stream",
     "text": [
      "value of a is:6.0 and value of b is:4.0\n"
     ]
    }
   ],
   "source": [
    "print(f\"value of a is:{a} and value of b is:{b}\")"
   ]
  },
  {
   "cell_type": "code",
   "execution_count": null,
   "metadata": {},
   "outputs": [],
   "source": []
  },
  {
   "cell_type": "code",
   "execution_count": 13,
   "metadata": {},
   "outputs": [
    {
     "name": "stdout",
     "output_type": "stream",
     "text": [
      "(3, 5)\n",
      "3\n"
     ]
    }
   ],
   "source": [
    "import re\n",
    "\n",
    "string = 'Happy Birthday'\n",
    "pattern = 'py'\n",
    "print(re.search(pattern, string).span()) ## this prints starting and end indices\n",
    "print(re.search(pattern, string).span()[0]) ## this does what you wanted"
   ]
  },
  {
   "cell_type": "code",
   "execution_count": 14,
   "metadata": {},
   "outputs": [
    {
     "data": {
      "text/plain": [
       "'py'"
      ]
     },
     "execution_count": 14,
     "metadata": {},
     "output_type": "execute_result"
    }
   ],
   "source": [
    "string[3:5]"
   ]
  },
  {
   "cell_type": "code",
   "execution_count": 15,
   "metadata": {},
   "outputs": [
    {
     "name": "stdout",
     "output_type": "stream",
     "text": [
      "0 M\n",
      "1 y\n",
      "2  \n",
      "3 n\n",
      "4 a\n",
      "5 m\n",
      "6 e\n",
      "7  \n",
      "8 i\n",
      "9 s\n",
      "10  \n",
      "11 S\n",
      "12 r\n",
      "13 e\n",
      "14 e\n",
      "15 k\n",
      "16 a\n",
      "17 n\n",
      "18 t\n",
      "19 h\n",
      "20  \n",
      "21 R\n",
      "22  \n",
      "23 S\n",
      "24 h\n",
      "25 e\n",
      "26 k\n",
      "27 a\n",
      "28 r\n"
     ]
    }
   ],
   "source": [
    "string = \"My name is Sreekanth R Shekar\"\n",
    "for i,j in enumerate(string):\n",
    "    print(i,j)"
   ]
  },
  {
   "cell_type": "code",
   "execution_count": 16,
   "metadata": {},
   "outputs": [
    {
     "data": {
      "text/plain": [
       "'Sree'"
      ]
     },
     "execution_count": 16,
     "metadata": {},
     "output_type": "execute_result"
    }
   ],
   "source": [
    "string[11:15]"
   ]
  },
  {
   "cell_type": "code",
   "execution_count": 17,
   "metadata": {},
   "outputs": [
    {
     "data": {
      "text/plain": [
       "'name'"
      ]
     },
     "execution_count": 17,
     "metadata": {},
     "output_type": "execute_result"
    }
   ],
   "source": [
    "string[3:7]"
   ]
  },
  {
   "cell_type": "code",
   "execution_count": 18,
   "metadata": {},
   "outputs": [
    {
     "ename": "ValueError",
     "evalue": "not enough values to unpack (expected 4, got 1)",
     "output_type": "error",
     "traceback": [
      "\u001b[0;31m---------------------------------------------------------------------------\u001b[0m",
      "\u001b[0;31mValueError\u001b[0m                                Traceback (most recent call last)",
      "\u001b[0;32m<ipython-input-18-e9bf7906e7b2>\u001b[0m in \u001b[0;36m<module>\u001b[0;34m\u001b[0m\n\u001b[0;32m----> 1\u001b[0;31m \u001b[0mname\u001b[0m\u001b[0;34m,\u001b[0m\u001b[0maddress_line1\u001b[0m\u001b[0;34m,\u001b[0m \u001b[0maddress_line2\u001b[0m\u001b[0;34m,\u001b[0m \u001b[0mdistrict\u001b[0m \u001b[0;34m=\u001b[0m\u001b[0mstring\u001b[0m\u001b[0;34m.\u001b[0m\u001b[0msplit\u001b[0m\u001b[0;34m(\u001b[0m\u001b[0;34m\",\"\u001b[0m\u001b[0;34m)\u001b[0m\u001b[0;34m\u001b[0m\u001b[0;34m\u001b[0m\u001b[0m\n\u001b[0m",
      "\u001b[0;31mValueError\u001b[0m: not enough values to unpack (expected 4, got 1)"
     ]
    }
   ],
   "source": [
    "name,address_line1, address_line2, district =string.split(\",\")"
   ]
  },
  {
   "cell_type": "code",
   "execution_count": null,
   "metadata": {},
   "outputs": [],
   "source": [
    "name"
   ]
  },
  {
   "cell_type": "code",
   "execution_count": null,
   "metadata": {},
   "outputs": [],
   "source": [
    "address_line1"
   ]
  },
  {
   "cell_type": "code",
   "execution_count": null,
   "metadata": {},
   "outputs": [],
   "source": [
    "address_line2"
   ]
  },
  {
   "cell_type": "code",
   "execution_count": null,
   "metadata": {},
   "outputs": [],
   "source": [
    "district"
   ]
  },
  {
   "cell_type": "code",
   "execution_count": null,
   "metadata": {},
   "outputs": [],
   "source": [
    "address = \"1 Hacker Way,Menlo Park,CA 94025\"\n",
    "for i in address.split(\",\"):\n",
    "    print(i)"
   ]
  },
  {
   "cell_type": "code",
   "execution_count": null,
   "metadata": {},
   "outputs": [],
   "source": [
    "template =['address_line1', 'address_line2','address_line3']\n",
    "template"
   ]
  },
  {
   "cell_type": "code",
   "execution_count": null,
   "metadata": {},
   "outputs": [],
   "source": [
    "facebook_list = address.split(\",\")\n",
    "facebook_list"
   ]
  },
  {
   "cell_type": "code",
   "execution_count": null,
   "metadata": {},
   "outputs": [],
   "source": [
    "facebook_zip =zip(template,facebook_list)\n"
   ]
  },
  {
   "cell_type": "code",
   "execution_count": null,
   "metadata": {},
   "outputs": [],
   "source": [
    "facebook_dict =dict(facebook_zip)\n",
    "facebook_dict"
   ]
  },
  {
   "cell_type": "code",
   "execution_count": null,
   "metadata": {},
   "outputs": [],
   "source": [
    "facebook_dict['address_line1']"
   ]
  },
  {
   "cell_type": "code",
   "execution_count": null,
   "metadata": {},
   "outputs": [],
   "source": [
    "amithabh_bachchan_office_address =\"AB Corp. Ltd.,A/102,Parimal Appartment,Off Juhu Lane,Andheri West,Mumbai,Maharashtra,India\""
   ]
  },
  {
   "cell_type": "code",
   "execution_count": null,
   "metadata": {},
   "outputs": [],
   "source": [
    "for i in amithabh_bachchan_office_address.split(\",\"):\n",
    "    print(i)"
   ]
  },
  {
   "cell_type": "code",
   "execution_count": null,
   "metadata": {},
   "outputs": [],
   "source": [
    "template2 =['name','address_line1',\"address_line2\",\"address_line3\",\"address_line4\",\"city\",\"state\",\"country\"]"
   ]
  },
  {
   "cell_type": "code",
   "execution_count": null,
   "metadata": {},
   "outputs": [],
   "source": [
    "AB_list =amithabh_bachchan_office_address.split(\",\")"
   ]
  },
  {
   "cell_type": "code",
   "execution_count": null,
   "metadata": {},
   "outputs": [],
   "source": [
    "AB_zip =zip(template2,AB_list)\n",
    "AB_dict =dict(AB_zip)"
   ]
  },
  {
   "cell_type": "code",
   "execution_count": null,
   "metadata": {},
   "outputs": [],
   "source": [
    "AB_dict"
   ]
  },
  {
   "cell_type": "code",
   "execution_count": null,
   "metadata": {},
   "outputs": [],
   "source": [
    "AB_dict['state']"
   ]
  },
  {
   "cell_type": "code",
   "execution_count": null,
   "metadata": {},
   "outputs": [],
   "source": [
    "amitabh_res_address ='Jalsa, B/2, Kapol Housing Society, VL Mehta Road, Juhu, Mumbai – 400049, Maharashtra, India'\n",
    "rajnikanth_res_address ='18, Raghava Veera Avenue, Poes Garden, Chennai, Tamil Nadu, India'"
   ]
  },
  {
   "cell_type": "code",
   "execution_count": null,
   "metadata": {},
   "outputs": [],
   "source": [
    "name = 'Sreekanth'\n",
    "country ='India'\n",
    "print(\"My name is {1} and I live in {0}\".format(country,name))"
   ]
  },
  {
   "cell_type": "code",
   "execution_count": null,
   "metadata": {},
   "outputs": [],
   "source": [
    "\n",
    "print(f\"My name is {name} and I live in {country}\")"
   ]
  },
  {
   "cell_type": "code",
   "execution_count": null,
   "metadata": {},
   "outputs": [],
   "source": []
  },
  {
   "cell_type": "markdown",
   "metadata": {},
   "source": [
    "## <font color=red> QUESTION.</font>\n",
    "> #### <font color=red> How to insert a variable inside a string? </font>"
   ]
  },
  {
   "cell_type": "markdown",
   "metadata": {},
   "source": [
    "Let's say we have template as below:<br>\n",
    "> <font color=blue>\"Dear (Name), <br>\n",
    "Your appointment has been booked on (date) at (time). Please make sure to reach 15 minutes before the appointed time.\" <font/> <br>\n",
    "\n",
    "How can I add the name, date and time for different bookings using the same template?"
   ]
  },
  {
   "cell_type": "code",
   "execution_count": 20,
   "metadata": {},
   "outputs": [
    {
     "name": "stdout",
     "output_type": "stream",
     "text": [
      "Dear (Name),\n",
      "Your appointment has been booked on (date) at (time).Please make sure to reach 15 minutes before the appointed time.\n"
     ]
    }
   ],
   "source": [
    "print(\"Dear (Name),\\nYour appointment has been booked on (date) at (time).Please make sure to reach 15 minutes before the appointed time.\" )"
   ]
  },
  {
   "cell_type": "code",
   "execution_count": 22,
   "metadata": {},
   "outputs": [
    {
     "name": "stdout",
     "output_type": "stream",
     "text": [
      "Dear (Name),\n",
      "Your appointment has been booked on (date) at (time).\n",
      "Please make sure to reach 15 minutes before the appointed time.\n"
     ]
    }
   ],
   "source": [
    "print('''Dear (Name),\n",
    "Your appointment has been booked on (date) at (time).\n",
    "Please make sure to reach 15 minutes before the appointed time.''')"
   ]
  },
  {
   "cell_type": "code",
   "execution_count": 26,
   "metadata": {},
   "outputs": [],
   "source": [
    "Name=\"Ms.Keerthi\"\n",
    "date=\"28th July,2020\"\n",
    "time=\"1:30 pm\"\n",
    "    "
   ]
  },
  {
   "cell_type": "code",
   "execution_count": 27,
   "metadata": {},
   "outputs": [
    {
     "name": "stdout",
     "output_type": "stream",
     "text": [
      "Dear Ms.Keerthi,\n",
      "Your appointment has been booked on 28th July,2020 at 1:30 pm.\n",
      "Please make sure to reach 15 minutes before the appointed time.\n"
     ]
    }
   ],
   "source": [
    "print(f'''Dear {Name},\n",
    "Your appointment has been booked on {date} at {time}.\n",
    "Please make sure to reach 15 minutes before the appointed time.''')"
   ]
  },
  {
   "cell_type": "code",
   "execution_count": null,
   "metadata": {},
   "outputs": [],
   "source": [
    "f-strings, python version = 3.6+"
   ]
  },
  {
   "cell_type": "code",
   "execution_count": 31,
   "metadata": {},
   "outputs": [
    {
     "name": "stdout",
     "output_type": "stream",
     "text": [
      "Dear Ms.Keerthi,\n",
      "Your appointment has been booked on 28th July,2020 at 1:30 pm.\n",
      "Please make sure to reach 15 minutes before the appointed time.\n"
     ]
    }
   ],
   "source": [
    "print('''Dear {2},\n",
    "Your appointment has been booked on {0} at {1}.\n",
    "Please make sure to reach 15 minutes before the appointed time.'''.format(date,time,Name))"
   ]
  },
  {
   "cell_type": "code",
   "execution_count": null,
   "metadata": {},
   "outputs": [],
   "source": []
  }
 ],
 "metadata": {
  "kernelspec": {
   "display_name": "Python 3",
   "language": "python",
   "name": "python3"
  },
  "language_info": {
   "codemirror_mode": {
    "name": "ipython",
    "version": 3
   },
   "file_extension": ".py",
   "mimetype": "text/x-python",
   "name": "python",
   "nbconvert_exporter": "python",
   "pygments_lexer": "ipython3",
   "version": "3.7.7"
  }
 },
 "nbformat": 4,
 "nbformat_minor": 4
}
