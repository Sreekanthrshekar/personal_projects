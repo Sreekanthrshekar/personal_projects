{
 "cells": [
  {
   "cell_type": "markdown",
   "metadata": {},
   "source": [
    "## <font color=red> QUESTION.</font>\n",
    "> #### <font color=red> I wish to find and replace words using python. How can I do that ? </font>"
   ]
  },
  {
   "cell_type": "markdown",
   "metadata": {},
   "source": [
    " ### Example 1\n",
    " \n",
    " Input = \"Respected Sir,I wish to inform you that your subsciption has expired. Please recharge to continue uninterrupted service.\"\n",
    " \n",
    " Output = 'Respected Madam,I wish to inform you that your subsciption has expired. Please recharge to continue uninterrupted service.'"
   ]
  },
  {
   "cell_type": "code",
   "execution_count": 38,
   "metadata": {},
   "outputs": [
    {
     "data": {
      "text/plain": [
       "'Respected Sir, I wish to inform you that your subsciption has expired. Please recharge to continue uninterrupted service.'"
      ]
     },
     "execution_count": 38,
     "metadata": {},
     "output_type": "execute_result"
    }
   ],
   "source": [
    "string1= 'Respected Sir, I wish to inform you that your subsciption has expired. Please recharge to continue uninterrupted service.'\n",
    "string1"
   ]
  },
  {
   "cell_type": "code",
   "execution_count": 39,
   "metadata": {},
   "outputs": [
    {
     "data": {
      "text/plain": [
       "'Respected Madam, I wish to inform you that your subsciption has expired. Please recharge to continue uninterrupted service.'"
      ]
     },
     "execution_count": 39,
     "metadata": {},
     "output_type": "execute_result"
    }
   ],
   "source": [
    "string2 = string1.replace(\"Sir\",\"Madam\")\n",
    "string2"
   ]
  },
  {
   "cell_type": "markdown",
   "metadata": {},
   "source": [
    " ### Example 2\n",
    "\n",
    "Input = \"Mary is working in marketing section. She has to work from 9 am to 9 pm everyday. She reaches home only by 11 at night\"\n",
    " \n",
    " Output = 'John is working in marketing section. He has to work from 9 am to 9 pm everyday. He reaches home only by 11 at night'"
   ]
  },
  {
   "cell_type": "code",
   "execution_count": 40,
   "metadata": {},
   "outputs": [
    {
     "data": {
      "text/plain": [
       "'Mary is working in marketing section. She has to work from 9 am to 9 pm everyday. She reaches home only by 11 at night'"
      ]
     },
     "execution_count": 40,
     "metadata": {},
     "output_type": "execute_result"
    }
   ],
   "source": [
    "string3 = 'Mary is working in marketing section. She has to work from 9 am to 9 pm everyday. She reaches home only by 11 at night'\n",
    "string3"
   ]
  },
  {
   "cell_type": "code",
   "execution_count": 41,
   "metadata": {},
   "outputs": [
    {
     "data": {
      "text/plain": [
       "'John is working in marketing section. He has to work from 9 am to 9 pm everyday. He reaches home only by 11 at night'"
      ]
     },
     "execution_count": 41,
     "metadata": {},
     "output_type": "execute_result"
    }
   ],
   "source": [
    "string4 =string3.replace(\"Mary\",\"John\")\n",
    "string5 =string4.replace(\"She\",\"He\")\n",
    "string5"
   ]
  },
  {
   "cell_type": "code",
   "execution_count": 42,
   "metadata": {},
   "outputs": [
    {
     "data": {
      "text/plain": [
       "'John is working in marketing section. He has to work from 9 am to 9 pm everyday. He reaches home only by 11 at night'"
      ]
     },
     "execution_count": 42,
     "metadata": {},
     "output_type": "execute_result"
    }
   ],
   "source": [
    "string6 =string3.replace(\"Mary\",\"John\").replace(\"She\",\"He\")\n",
    "string6"
   ]
  },
  {
   "cell_type": "markdown",
   "metadata": {},
   "source": [
    " ### Example 3\n",
    "\n",
    "Input = \"Mary is working in marketing section. Mary has to work from 9 am to 9 pm everyday. Mary reaches home only by 11 at night\"\n",
    " \n",
    " Output = 'John is working in marketing section. He has to work from 9 am to 9 pm everyday. He reaches home only by 11 at night'"
   ]
  },
  {
   "cell_type": "code",
   "execution_count": 43,
   "metadata": {},
   "outputs": [
    {
     "data": {
      "text/plain": [
       "'Mary is working in marketing section. Mary has to work from 9 am to 9 pm everyday. Mary reaches home only by 11 at night'"
      ]
     },
     "execution_count": 43,
     "metadata": {},
     "output_type": "execute_result"
    }
   ],
   "source": [
    "string5 = 'Mary is working in marketing section. Mary has to work from 9 am to 9 pm everyday. Mary reaches home only by 11 at night'\n",
    "string5"
   ]
  },
  {
   "cell_type": "code",
   "execution_count": 44,
   "metadata": {},
   "outputs": [
    {
     "data": {
      "text/plain": [
       "'Mary is working in marketing section. Mary has to work from 9 am to 9 pm everyday. Mary reaches home only by 11 at night'"
      ]
     },
     "execution_count": 44,
     "metadata": {},
     "output_type": "execute_result"
    }
   ],
   "source": [
    "string7 = string5.replace(\"mary\",\"John\",1).replace(\"mary\",\"He\")\n",
    "string7"
   ]
  },
  {
   "cell_type": "code",
   "execution_count": null,
   "metadata": {},
   "outputs": [],
   "source": []
  },
  {
   "cell_type": "code",
   "execution_count": null,
   "metadata": {},
   "outputs": [],
   "source": []
  },
  {
   "cell_type": "code",
   "execution_count": null,
   "metadata": {},
   "outputs": [],
   "source": []
  },
  {
   "cell_type": "code",
   "execution_count": null,
   "metadata": {},
   "outputs": [],
   "source": []
  },
  {
   "cell_type": "markdown",
   "metadata": {},
   "source": [
    "# <font color =red> PYTHON PROGRAM #1 <font/>\n",
    " > ### <font color =red> Swap two variable values without using a third variable<font/>"
   ]
  },
  {
   "cell_type": "code",
   "execution_count": 45,
   "metadata": {},
   "outputs": [
    {
     "name": "stdin",
     "output_type": "stream",
     "text": [
      " Please note that output will be in float\n",
      "Enter the value for variable a: 30.67\n",
      "Enter the value fo variable b: 67.90\n"
     ]
    }
   ],
   "source": [
    "a =float(input(''' Please note that output will be in float\n",
    "Enter the value for variable a:'''))\n",
    "b =float(input(\"Enter the value fo variable b:\"))"
   ]
  },
  {
   "cell_type": "code",
   "execution_count": 46,
   "metadata": {},
   "outputs": [
    {
     "data": {
      "text/plain": [
       "98.57000000000001"
      ]
     },
     "execution_count": 46,
     "metadata": {},
     "output_type": "execute_result"
    }
   ],
   "source": [
    "a=a+b\n",
    "a"
   ]
  },
  {
   "cell_type": "code",
   "execution_count": 47,
   "metadata": {},
   "outputs": [
    {
     "data": {
      "text/plain": [
       "30.67"
      ]
     },
     "execution_count": 47,
     "metadata": {},
     "output_type": "execute_result"
    }
   ],
   "source": [
    "b=a-b\n",
    "b"
   ]
  },
  {
   "cell_type": "code",
   "execution_count": 48,
   "metadata": {},
   "outputs": [
    {
     "data": {
      "text/plain": [
       "67.9"
      ]
     },
     "execution_count": 48,
     "metadata": {},
     "output_type": "execute_result"
    }
   ],
   "source": [
    "a=a-b\n",
    "a"
   ]
  },
  {
   "cell_type": "code",
   "execution_count": 49,
   "metadata": {},
   "outputs": [
    {
     "name": "stdout",
     "output_type": "stream",
     "text": [
      "value of a is:67.9 and value of b is:30.67\n"
     ]
    }
   ],
   "source": [
    "print(f\"value of a is:{a} and value of b is:{b}\")"
   ]
  },
  {
   "cell_type": "code",
   "execution_count": null,
   "metadata": {},
   "outputs": [],
   "source": []
  },
  {
   "cell_type": "code",
   "execution_count": null,
   "metadata": {},
   "outputs": [],
   "source": []
  }
 ],
 "metadata": {
  "kernelspec": {
   "display_name": "Python 3",
   "language": "python",
   "name": "python3"
  },
  "language_info": {
   "codemirror_mode": {
    "name": "ipython",
    "version": 3
   },
   "file_extension": ".py",
   "mimetype": "text/x-python",
   "name": "python",
   "nbconvert_exporter": "python",
   "pygments_lexer": "ipython3",
   "version": "3.7.7"
  }
 },
 "nbformat": 4,
 "nbformat_minor": 4
}
